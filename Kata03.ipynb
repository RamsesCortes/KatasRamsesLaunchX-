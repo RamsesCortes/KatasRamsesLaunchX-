{
 "cells": [
  {
   "cell_type": "markdown",
   "metadata": {},
   "source": [
    "# Escribir declaraciones if, else, y elif"
   ]
  },
  {
   "cell_type": "markdown",
   "metadata": {},
   "source": [
    "# Alerta velocidad del asteroide"
   ]
  },
  {
   "cell_type": "code",
   "execution_count": 12,
   "metadata": {},
   "outputs": [
    {
     "name": "stdout",
     "output_type": "stream",
     "text": [
      "Alerta, Alerta ciudadanos de la tierra, se acerca un asteroide con velocidad superior a la de seguridad\n"
     ]
    }
   ],
   "source": [
    "#Velocidades de asteroide y maxima permitida del asteroide\n",
    "velAsteroide=49\n",
    "velAlerta=25\n",
    "\n",
    "#Condicionales con base en la velocidad\n",
    "# Expresion de prueba y sus instrucciones a ejecutar\n",
    "if velAsteroide>velAlerta:\n",
    "    print(\"Alerta, Alerta ciudadanos de la tierra, se acerca un asteroide con velocidad superior a la de seguridad\")\n",
    "else:\n",
    "    print(\"Todo en orden\")\n",
    "\n"
   ]
  },
  {
   "cell_type": "markdown",
   "metadata": {},
   "source": [
    "# Asteroide y rayo de luz en el cielo"
   ]
  },
  {
   "cell_type": "code",
   "execution_count": 23,
   "metadata": {},
   "outputs": [
    {
     "name": "stdout",
     "output_type": "stream",
     "text": [
      "Ciudadanos, ustedes podrán ver un haz de luz de un asteroide que se aproxima a más de 20km/h\n"
     ]
    }
   ],
   "source": [
    "# Definicion de variables\n",
    "velAsteroide=19\n",
    "velAsteroideLuz=20\n",
    "\n",
    "# Expresion de prueba y sus instrucciones a ejecutar\n",
    "if velAsteroide>velAsteroideLuz:\n",
    "        print(\"Ciudadanos, ustedes podrán ver un haz de luz de un asteroide que se aproxima a más de 20km/h\")\n",
    "elif velAsteroide==velAsteroideLuz:\n",
    "        print(\"Ciudadanos, ustedes podrán ver un haz de luz de un asteroide que se aproxima a más de 20km/h\")\n",
    "else:\n",
    "        print(\"Sin novedad\")"
   ]
  },
  {
   "cell_type": "markdown",
   "metadata": {},
   "source": [
    "# Velocidad y tamaño del asteroide"
   ]
  },
  {
   "cell_type": "code",
   "execution_count": 55,
   "metadata": {},
   "outputs": [
    {
     "name": "stdout",
     "output_type": "stream",
     "text": [
      "El asteroide tiene una dimension y velocidad que puede ocasionar un daño considerable a la Tierra\n"
     ]
    }
   ],
   "source": [
    "#Definiendo las variables de Velocidad y Peso\n",
    "velAsteroide=200\n",
    "tamAsteroide =200\n",
    "\n",
    "#Condicionales y comandos\n",
    "if velAsteroide>20 and tamAsteroide>25:\n",
    "    print (\"El asteroide tiene una dimension y velocidad que puede ocasionar un daño considerable a la Tierra\")\n",
    "elif velAsteroide>20 and tamAsteroide<25:\n",
    "    print(\"El asteroide va dejar un rayo de luz visible desde la tierra\")\n",
    "elif velAsteroide<20 and tamAsteroide>25:\n",
    "    print(\"El asteroide tiene una dimension que puede ocasionar un daño considerable a la Tierra aunque no viaja tan veloz\")\n",
    "else:\n",
    "    print(\"Estamos a salvo\")\n",
    "    \n",
    "\n"
   ]
  }
 ],
 "metadata": {
  "interpreter": {
   "hash": "b3dcf47835bf5e3ecca39b54f96af48d8df8e14ff66c4f516df7f4001d8d629d"
  },
  "kernelspec": {
   "display_name": "Python 3.10.2 64-bit",
   "language": "python",
   "name": "python3"
  },
  "language_info": {
   "codemirror_mode": {
    "name": "ipython",
    "version": 3
   },
   "file_extension": ".py",
   "mimetype": "text/x-python",
   "name": "python",
   "nbconvert_exporter": "python",
   "pygments_lexer": "ipython3",
   "version": "3.10.2"
  },
  "orig_nbformat": 4
 },
 "nbformat": 4,
 "nbformat_minor": 2
}
