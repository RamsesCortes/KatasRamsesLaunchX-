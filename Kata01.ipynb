{
 "cells": [
  {
   "cell_type": "markdown",
   "metadata": {},
   "source": [
    "# Mostrando la Fecha"
   ]
  },
  {
   "cell_type": "code",
   "execution_count": 1,
   "metadata": {},
   "outputs": [
    {
     "name": "stdout",
     "output_type": "stream",
     "text": [
      "La fecha de hoy es:2022-02-18\n"
     ]
    }
   ],
   "source": [
    "# Se importa la biblioteca\n",
    "from datetime import date\n",
    "\n",
    "#Obteniendo la fecha\n",
    "date.today()\n",
    "print(\"La fecha de hoy es:\" + str(date.today()))"
   ]
  },
  {
   "cell_type": "markdown",
   "metadata": {},
   "source": [
    "# Construir un convertidor de unidades\n",
    "# Parsecs y años luz"
   ]
  },
  {
   "cell_type": "code",
   "execution_count": 10,
   "metadata": {},
   "outputs": [
    {
     "name": "stdout",
     "output_type": "stream",
     "text": [
      "Quieres saber a cuanto equivalen los Parsecs en años luz? aqui la solicion\n",
      "11 Parsec, is 35.877159999999996 lightyears\n"
     ]
    }
   ],
   "source": [
    "print(\"Quieres saber a cuanto equivalen los Parsecs en años luz? aqui la solicion\")\n",
    "parsec=11\n",
    "lightyears=0\n",
    "conversion = parsec*3.26156\n",
    "print(str(parsec) + \" Parsec, is \" + str(conversion) + \" lightyears\")"
   ]
  }
 ],
 "metadata": {
  "interpreter": {
   "hash": "b3dcf47835bf5e3ecca39b54f96af48d8df8e14ff66c4f516df7f4001d8d629d"
  },
  "kernelspec": {
   "display_name": "Python 3.10.2 64-bit",
   "language": "python",
   "name": "python3"
  },
  "language_info": {
   "codemirror_mode": {
    "name": "ipython",
    "version": 3
   },
   "file_extension": ".py",
   "mimetype": "text/x-python",
   "name": "python",
   "nbconvert_exporter": "python",
   "pygments_lexer": "ipython3",
   "version": "3.10.2"
  },
  "orig_nbformat": 4
 },
 "nbformat": 4,
 "nbformat_minor": 2
}
