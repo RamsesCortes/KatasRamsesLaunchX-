{
 "cells": [
  {
   "cell_type": "markdown",
   "metadata": {},
   "source": [
    "# Módulo 8 - Administrar datos con diccionarios"
   ]
  },
  {
   "cell_type": "markdown",
   "metadata": {},
   "source": [
    "# Ejercicio 1: Creación de diccionarios de Python"
   ]
  },
  {
   "cell_type": "code",
   "execution_count": 9,
   "metadata": {},
   "outputs": [
    {
     "name": "stdout",
     "output_type": "stream",
     "text": [
      "{'name': 'Mars', 'moons': 2}\n",
      "Mars has 2 moons\n",
      "El planeta: Mars\n",
      "Tiene 2 lunas\n"
     ]
    }
   ],
   "source": [
    "# Creando dicionario Planet\n",
    "\n",
    "planet = {\n",
    "    'name' : 'Mars',\n",
    "    'moons' : 2\n",
    "}\n",
    "print(planet)\n",
    "# Nombre del planeta y la cantidad de lunas que tienen\n",
    "\n",
    "print(f'{planet[\"name\"]} has {planet[\"moons\"]} moons')\n",
    "\n",
    "\n",
    "\n",
    "# Mostrando el planeta y sus lunas \n",
    "planet = {'name': 'Mars', 'moons': 2}\n",
    "#usando get\n",
    "print('El planeta: '+planet.get('name'))\n",
    "print('Tiene '+  str(planet.get('moons')), \"lunas\")"
   ]
  },
  {
   "cell_type": "code",
   "execution_count": 14,
   "metadata": {},
   "outputs": [
    {
     "name": "stdout",
     "output_type": "stream",
     "text": [
      "Mars tiene una circunferencia polar de 6752\n"
     ]
    },
    {
     "data": {
      "text/plain": [
       "{'name': 'Mars',\n",
       " 'moons': 2,\n",
       " 'circumference (km)': {'polar': 6752, 'equatorial': 6792}}"
      ]
     },
     "execution_count": 14,
     "metadata": {},
     "output_type": "execute_result"
    }
   ],
   "source": [
    "# Agrega la clave circunferencia con los datos proporcionados previamente\n",
    "\n",
    "planet['circumference (km)'] = {\n",
    "    'polar': 6752,\n",
    "    'equatorial': 6792\n",
    "}\n",
    "\n",
    "#Imprimiendo el nombre del planeta con su circunferencia polar\n",
    "print(f'{planet[\"name\"]} tiene una circunferencia polar de {planet[\"circumference (km)\"][\"polar\"]}')\n",
    "\n",
    "planet\n"
   ]
  },
  {
   "cell_type": "markdown",
   "metadata": {},
   "source": [
    "# Ejercicio 2: Programación dinámica con diccionarios"
   ]
  },
  {
   "cell_type": "code",
   "execution_count": 15,
   "metadata": {},
   "outputs": [],
   "source": [
    "# Ejercicio: Cálculo de valores\n",
    "\n",
    "# Planetas y lunas\n",
    "\n",
    "planet_moons = {\n",
    "    'mercury': 0,\n",
    "    'venus': 0,\n",
    "    'earth': 1,\n",
    "    'mars': 2,\n",
    "    'jupiter': 79,\n",
    "    'saturn': 82,\n",
    "    'uranus': 27,\n",
    "    'neptune': 14,\n",
    "    'pluto': 5,\n",
    "    'haumea': 2,\n",
    "    'makemake': 1,\n",
    "    'eris': 1\n",
    "}"
   ]
  },
  {
   "cell_type": "code",
   "execution_count": 17,
   "metadata": {},
   "outputs": [
    {
     "name": "stdout",
     "output_type": "stream",
     "text": [
      "dict_values([0, 0, 1, 2, 79, 82, 27, 14, 5, 2, 1, 1]) lunas en el sistema solar\n",
      "Hay 12 planetas en el sistema solar\n"
     ]
    }
   ],
   "source": [
    "# Determina el numero de lunas \n",
    "moons=planet_moons.values()\n",
    "planets=len(planet_moons)\n",
    "\n",
    "print(f'{moons} lunas en el sistema solar')\n",
    "print(f'Hay {planets} planetas en el sistema solar')"
   ]
  },
  {
   "cell_type": "code",
   "execution_count": 18,
   "metadata": {},
   "outputs": [
    {
     "name": "stdout",
     "output_type": "stream",
     "text": [
      "Hay un total de 214 lunas en el Sistema Solar; con un promedio de 17.833333333333332 lunas por planeta\n"
     ]
    }
   ],
   "source": [
    "# Contar el numero de lunas en el sistema solar. \n",
    "planet_moons = {'mercury': 0,'venus': 0,'earth': 1,'mars': 2,'jupiter': 79,'saturn': 82,'uranus': 27,'neptune': 14,'pluto': 5,'haumea': 2,'makemake': 1,'eris': 1}\n",
    "moons=planet_moons.values()\n",
    "planets=len(planet_moons)\n",
    "total_moons=0\n",
    "promedio=0\n",
    "for valor in planet_moons.values():\n",
    "    total_moons=total_moons+valor\n",
    "\n",
    "promedio=total_moons/planets\n",
    "print(f'Hay un total de {total_moons} lunas en el Sistema Solar; con un promedio de {promedio} lunas por planeta')"
   ]
  }
 ],
 "metadata": {
  "interpreter": {
   "hash": "b3dcf47835bf5e3ecca39b54f96af48d8df8e14ff66c4f516df7f4001d8d629d"
  },
  "kernelspec": {
   "display_name": "Python 3.10.2 64-bit",
   "language": "python",
   "name": "python3"
  },
  "language_info": {
   "codemirror_mode": {
    "name": "ipython",
    "version": 3
   },
   "file_extension": ".py",
   "mimetype": "text/x-python",
   "name": "python",
   "nbconvert_exporter": "python",
   "pygments_lexer": "ipython3",
   "version": "3.10.2"
  },
  "orig_nbformat": 4
 },
 "nbformat": 4,
 "nbformat_minor": 2
}
