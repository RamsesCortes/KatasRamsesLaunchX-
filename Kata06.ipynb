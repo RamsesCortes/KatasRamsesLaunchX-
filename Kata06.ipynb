{
 "cells": [
  {
   "cell_type": "markdown",
   "metadata": {},
   "source": [
    "# Ejercicio1: Crear y usar listas de Python"
   ]
  },
  {
   "cell_type": "markdown",
   "metadata": {},
   "source": [
    "# Usar listas para almacenar nombres de planetas"
   ]
  },
  {
   "cell_type": "code",
   "execution_count": 37,
   "metadata": {},
   "outputs": [
    {
     "name": "stdout",
     "output_type": "stream",
     "text": [
      "['Mercurio', 'Venus', 'Tierra', 'Marte', 'Jupiter', 'Saturno', 'Urano', 'Neptuno']\n"
     ]
    }
   ],
   "source": [
    "# Crear lista de planetas y mostrarlos en pantalla\n",
    "planetas = [\"Mercurio\", \"Venus\", \"Tierra\", \"Marte\", \"Jupiter\", \"Saturno\", \"Urano\", \"Neptuno\"]\n",
    "print (planetas)"
   ]
  },
  {
   "cell_type": "code",
   "execution_count": 38,
   "metadata": {},
   "outputs": [
    {
     "name": "stdout",
     "output_type": "stream",
     "text": [
      "['Mercurio', 'Venus', 'Tierra', 'Marte', 'Jupiter', 'Saturno', 'Urano', 'Neptuno', 'Pluton']\n",
      "El ultimo planeta del sistema solar es: Neptuno\n"
     ]
    }
   ],
   "source": [
    "planetas.append(\"Pluton\")\n",
    "print(planetas)\n",
    "print(\"El ultimo planeta del sistema solar es: \" + planetas[7])\n",
    "planetas = [0]"
   ]
  },
  {
   "cell_type": "markdown",
   "metadata": {},
   "source": [
    "# Ejercicio 2: Trabajando con datos de una lista"
   ]
  },
  {
   "cell_type": "code",
   "execution_count": 66,
   "metadata": {},
   "outputs": [
    {
     "name": "stdout",
     "output_type": "stream",
     "text": [
      "Introduce el nombre de un planeta de nuestro Sistema Solar, su primer letra debe iniciar en mayuscula\n",
      "El planeta que introdujiste fue: Tierra\n",
      "Y ese planeta es el numero  3  respecto al Sol\n",
      "Los planteas mas cercanos al Sol, antes de  Tierra son:  ['Mercurio', 'Venus']\n",
      "Los planteas mas lejanos al Sol, despues de  Tierra son:  ['Marte', 'Jupiter', 'Saturno', 'Urano', 'Neptuno']\n"
     ]
    }
   ],
   "source": [
    "# Lista de planetas\n",
    "lista_planetas = [\"Mercurio\", \"Venus\", \"Tierra\", \"Marte\", \"Jupiter\", \"Saturno\", \"Urano\", \"Neptuno\", \"Pluton\"]\n",
    "print(\"Introduce el nombre de un planeta de nuestro Sistema Solar, su primer letra debe iniciar en mayuscula\")\n",
    "planeta_por_usuario = input('')\n",
    "\n",
    "planeta_index = lista_planetas.index(planeta_por_usuario)\n",
    "print(\"El planeta que introdujiste fue: \"+planeta_por_usuario)\n",
    "print(\"Y ese planeta es el numero \", planeta_index+1, \" respecto al Sol\")\n",
    "\n",
    "# Mostrando los planetas mas cercanos al Sol con base al selecionado\n",
    "print(\"Los planteas mas cercanos al Sol, antes de \", planeta_por_usuario, \"son: \", lista_planetas[0:planeta_index])\n",
    "\n",
    "# Mostrando los planetas mas lejanos al Sol con base al selecionado\n",
    "print(\"Los planteas mas lejanos al Sol, despues de \", planeta_por_usuario, \"son: \", lista_planetas[planeta_index+1:8])"
   ]
  }
 ],
 "metadata": {
  "interpreter": {
   "hash": "b3dcf47835bf5e3ecca39b54f96af48d8df8e14ff66c4f516df7f4001d8d629d"
  },
  "kernelspec": {
   "display_name": "Python 3.10.2 64-bit",
   "language": "python",
   "name": "python3"
  },
  "language_info": {
   "codemirror_mode": {
    "name": "ipython",
    "version": 3
   },
   "file_extension": ".py",
   "mimetype": "text/x-python",
   "name": "python",
   "nbconvert_exporter": "python",
   "pygments_lexer": "ipython3",
   "version": "3.10.2"
  },
  "orig_nbformat": 4
 },
 "nbformat": 4,
 "nbformat_minor": 2
}
