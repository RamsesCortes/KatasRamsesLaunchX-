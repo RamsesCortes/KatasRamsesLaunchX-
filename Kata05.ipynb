{
 "cells": [
  {
   "cell_type": "markdown",
   "metadata": {},
   "source": [
    "# Ejercicio1 - Utilizar operadores aritméticos"
   ]
  },
  {
   "cell_type": "code",
   "execution_count": 26,
   "metadata": {},
   "outputs": [
    {
     "name": "stdout",
     "output_type": "stream",
     "text": [
      "628949330\n"
     ]
    }
   ],
   "source": [
    "# Definiendo las distancias de los planetas al Sol\n",
    "d_tierra = 149597870\n",
    "d_jupiter = 778547200\n",
    "d_entre_planetas = 0\n",
    "\n",
    "# Calculando las distancias\n",
    "diferencia = d_tierra - d_jupiter\n",
    "print(abs(diferencia))"
   ]
  },
  {
   "cell_type": "code",
   "execution_count": 27,
   "metadata": {},
   "outputs": [
    {
     "name": "stdout",
     "output_type": "stream",
     "text": [
      "-390577533.93\n"
     ]
    }
   ],
   "source": [
    "# Convirtiendo la distancia a millas\n",
    "distancia_planetas_millas = diferencia*0.621\n",
    "print(distancia_planetas_millas)"
   ]
  },
  {
   "cell_type": "code",
   "execution_count": 28,
   "metadata": {},
   "outputs": [
    {
     "name": "stdout",
     "output_type": "stream",
     "text": [
      "-390577534\n"
     ]
    }
   ],
   "source": [
    "# Ahora la distancia redondeada\n",
    "print(round(distancia_planetas_millas))"
   ]
  },
  {
   "cell_type": "markdown",
   "metadata": {},
   "source": [
    "# Ejercicio 2: convierte cadenas en números y usa valores absolutos"
   ]
  },
  {
   "cell_type": "code",
   "execution_count": 29,
   "metadata": {},
   "outputs": [
    {
     "name": "stdout",
     "output_type": "stream",
     "text": [
      "Dame la distancia del primer planeta\n",
      "Dame la distancia del segundo planeta\n"
     ]
    }
   ],
   "source": [
    "# Crear una aplicación para trabajar con números y entrada de usuario\n",
    "# Lee los valores, almacenar las entradas del usuario\n",
    "print(\"Dame la distancia del primer planeta\")\n",
    "planeta1 = input()\n",
    "print(\"Dame la distancia del segundo planeta\")\n",
    "planeta2 = input()"
   ]
  },
  {
   "cell_type": "code",
   "execution_count": 30,
   "metadata": {},
   "outputs": [],
   "source": [
    "# Convirtiendo a numeros enteros\n",
    "planeta1=int(planeta1)\n",
    "planeta2=int(planeta2)"
   ]
  },
  {
   "cell_type": "code",
   "execution_count": 31,
   "metadata": {},
   "outputs": [
    {
     "name": "stdout",
     "output_type": "stream",
     "text": [
      "41400000\n",
      "25709400.0\n"
     ]
    }
   ],
   "source": [
    "# Realizando los calculos y arrojar el resultado en valor absoluto\n",
    "distancia_entre_planetas = planeta1 - planeta2\n",
    "print(abs(distancia_entre_planetas))\n",
    "\n",
    "# Resultado en millas\n",
    "resultado_en_millas = abs(distancia_entre_planetas*0.621)\n",
    "print(resultado_en_millas)"
   ]
  }
 ],
 "metadata": {
  "interpreter": {
   "hash": "b3dcf47835bf5e3ecca39b54f96af48d8df8e14ff66c4f516df7f4001d8d629d"
  },
  "kernelspec": {
   "display_name": "Python 3.10.2 64-bit",
   "language": "python",
   "name": "python3"
  },
  "language_info": {
   "codemirror_mode": {
    "name": "ipython",
    "version": 3
   },
   "file_extension": ".py",
   "mimetype": "text/x-python",
   "name": "python",
   "nbconvert_exporter": "python",
   "pygments_lexer": "ipython3",
   "version": "3.10.2"
  },
  "orig_nbformat": 4
 },
 "nbformat": 4,
 "nbformat_minor": 2
}
